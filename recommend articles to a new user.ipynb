{
 "cells": [
  {
   "cell_type": "markdown",
   "id": "78e57aa5",
   "metadata": {},
   "source": [
    "# Using a dataset of recommendations, build machine-learning models that recommend articles to a new user. Specifically, build online learning models and supervised learning models, and compare the results. First, build three multi-armed bandits using Epsilon greedy, UCB1, and Thompson Sampling algorithms. You may use only two features from the dataset: ‘Recommendation’ and ‘Reward’. Second, build contextual bandits using the reward and historical data provided. Third, build three classification models using the features ‘Age’ and ‘Gender’ to predict recommendations for the new user."
   ]
  },
  {
   "cell_type": "code",
   "execution_count": 98,
   "id": "b646b462",
   "metadata": {},
   "outputs": [],
   "source": [
    "import numpy as np\n",
    "import matplotlib.pyplot as plt\n",
    "import pandas as pd\n",
    "import sklearn as sk\n",
    "from sklearn.metrics import accuracy_score"
   ]
  },
  {
   "cell_type": "code",
   "execution_count": 99,
   "id": "d2b8985c",
   "metadata": {},
   "outputs": [
    {
     "data": {
      "text/html": [
       "<div>\n",
       "<style scoped>\n",
       "    .dataframe tbody tr th:only-of-type {\n",
       "        vertical-align: middle;\n",
       "    }\n",
       "\n",
       "    .dataframe tbody tr th {\n",
       "        vertical-align: top;\n",
       "    }\n",
       "\n",
       "    .dataframe thead th {\n",
       "        text-align: right;\n",
       "    }\n",
       "</style>\n",
       "<table border=\"1\" class=\"dataframe\">\n",
       "  <thead>\n",
       "    <tr style=\"text-align: right;\">\n",
       "      <th></th>\n",
       "      <th>Gender</th>\n",
       "      <th>Age</th>\n",
       "      <th>Recommendation</th>\n",
       "      <th>Reward</th>\n",
       "    </tr>\n",
       "  </thead>\n",
       "  <tbody>\n",
       "    <tr>\n",
       "      <th>0</th>\n",
       "      <td>m</td>\n",
       "      <td>29.0</td>\n",
       "      <td>health</td>\n",
       "      <td>0</td>\n",
       "    </tr>\n",
       "    <tr>\n",
       "      <th>1</th>\n",
       "      <td>m</td>\n",
       "      <td>28.0</td>\n",
       "      <td>movies</td>\n",
       "      <td>1</td>\n",
       "    </tr>\n",
       "    <tr>\n",
       "      <th>2</th>\n",
       "      <td>m</td>\n",
       "      <td>34.0</td>\n",
       "      <td>news</td>\n",
       "      <td>1</td>\n",
       "    </tr>\n",
       "    <tr>\n",
       "      <th>3</th>\n",
       "      <td>m</td>\n",
       "      <td>36.0</td>\n",
       "      <td>health</td>\n",
       "      <td>0</td>\n",
       "    </tr>\n",
       "    <tr>\n",
       "      <th>4</th>\n",
       "      <td>f</td>\n",
       "      <td>24.0</td>\n",
       "      <td>news</td>\n",
       "      <td>0</td>\n",
       "    </tr>\n",
       "  </tbody>\n",
       "</table>\n",
       "</div>"
      ],
      "text/plain": [
       "  Gender   Age Recommendation  Reward\n",
       "0      m  29.0         health       0\n",
       "1      m  28.0         movies       1\n",
       "2      m  34.0           news       1\n",
       "3      m  36.0         health       0\n",
       "4      f  24.0           news       0"
      ]
     },
     "execution_count": 99,
     "metadata": {},
     "output_type": "execute_result"
    }
   ],
   "source": [
    "data = pd.read_csv('SimulatedArticleData.csv', index_col=[0])\n",
    "data.head()"
   ]
  },
  {
   "cell_type": "code",
   "execution_count": 100,
   "id": "02acbaba",
   "metadata": {},
   "outputs": [],
   "source": [
    "msk = np.random.rand(len(data)) < 0.8\n",
    "dataset = data[msk]\n",
    "test = data[~msk]\n",
    "dataset.reset_index(drop=True, inplace=True)\n",
    "test.reset_index(drop=True, inplace=True)"
   ]
  },
  {
   "cell_type": "code",
   "execution_count": 101,
   "id": "6128c16f",
   "metadata": {},
   "outputs": [
    {
     "data": {
      "text/html": [
       "<div>\n",
       "<style scoped>\n",
       "    .dataframe tbody tr th:only-of-type {\n",
       "        vertical-align: middle;\n",
       "    }\n",
       "\n",
       "    .dataframe tbody tr th {\n",
       "        vertical-align: top;\n",
       "    }\n",
       "\n",
       "    .dataframe thead th {\n",
       "        text-align: right;\n",
       "    }\n",
       "</style>\n",
       "<table border=\"1\" class=\"dataframe\">\n",
       "  <thead>\n",
       "    <tr style=\"text-align: right;\">\n",
       "      <th></th>\n",
       "      <th>Gender</th>\n",
       "      <th>Age</th>\n",
       "      <th>Recommendation</th>\n",
       "      <th>Reward</th>\n",
       "    </tr>\n",
       "  </thead>\n",
       "  <tbody>\n",
       "    <tr>\n",
       "      <th>0</th>\n",
       "      <td>m</td>\n",
       "      <td>29.0</td>\n",
       "      <td>health</td>\n",
       "      <td>0</td>\n",
       "    </tr>\n",
       "    <tr>\n",
       "      <th>1</th>\n",
       "      <td>m</td>\n",
       "      <td>28.0</td>\n",
       "      <td>movies</td>\n",
       "      <td>1</td>\n",
       "    </tr>\n",
       "    <tr>\n",
       "      <th>2</th>\n",
       "      <td>m</td>\n",
       "      <td>34.0</td>\n",
       "      <td>news</td>\n",
       "      <td>1</td>\n",
       "    </tr>\n",
       "    <tr>\n",
       "      <th>3</th>\n",
       "      <td>m</td>\n",
       "      <td>36.0</td>\n",
       "      <td>health</td>\n",
       "      <td>0</td>\n",
       "    </tr>\n",
       "    <tr>\n",
       "      <th>4</th>\n",
       "      <td>f</td>\n",
       "      <td>61.0</td>\n",
       "      <td>sports</td>\n",
       "      <td>0</td>\n",
       "    </tr>\n",
       "  </tbody>\n",
       "</table>\n",
       "</div>"
      ],
      "text/plain": [
       "  Gender   Age Recommendation  Reward\n",
       "0      m  29.0         health       0\n",
       "1      m  28.0         movies       1\n",
       "2      m  34.0           news       1\n",
       "3      m  36.0         health       0\n",
       "4      f  61.0         sports       0"
      ]
     },
     "execution_count": 101,
     "metadata": {},
     "output_type": "execute_result"
    }
   ],
   "source": [
    "dataset.head()"
   ]
  },
  {
   "cell_type": "markdown",
   "id": "4c3d5525",
   "metadata": {},
   "source": [
    "# multi-armed bandits "
   ]
  },
  {
   "cell_type": "code",
   "execution_count": 102,
   "id": "97d4bef2",
   "metadata": {},
   "outputs": [
    {
     "data": {
      "text/html": [
       "<div>\n",
       "<style scoped>\n",
       "    .dataframe tbody tr th:only-of-type {\n",
       "        vertical-align: middle;\n",
       "    }\n",
       "\n",
       "    .dataframe tbody tr th {\n",
       "        vertical-align: top;\n",
       "    }\n",
       "\n",
       "    .dataframe thead th {\n",
       "        text-align: right;\n",
       "    }\n",
       "</style>\n",
       "<table border=\"1\" class=\"dataframe\">\n",
       "  <thead>\n",
       "    <tr style=\"text-align: right;\">\n",
       "      <th></th>\n",
       "      <th>Recommendation</th>\n",
       "      <th>Reward</th>\n",
       "    </tr>\n",
       "  </thead>\n",
       "  <tbody>\n",
       "    <tr>\n",
       "      <th>0</th>\n",
       "      <td>health</td>\n",
       "      <td>0</td>\n",
       "    </tr>\n",
       "    <tr>\n",
       "      <th>1</th>\n",
       "      <td>movies</td>\n",
       "      <td>1</td>\n",
       "    </tr>\n",
       "    <tr>\n",
       "      <th>2</th>\n",
       "      <td>news</td>\n",
       "      <td>1</td>\n",
       "    </tr>\n",
       "    <tr>\n",
       "      <th>3</th>\n",
       "      <td>health</td>\n",
       "      <td>0</td>\n",
       "    </tr>\n",
       "    <tr>\n",
       "      <th>4</th>\n",
       "      <td>sports</td>\n",
       "      <td>0</td>\n",
       "    </tr>\n",
       "  </tbody>\n",
       "</table>\n",
       "</div>"
      ],
      "text/plain": [
       "  Recommendation  Reward\n",
       "0         health       0\n",
       "1         movies       1\n",
       "2           news       1\n",
       "3         health       0\n",
       "4         sports       0"
      ]
     },
     "execution_count": 102,
     "metadata": {},
     "output_type": "execute_result"
    }
   ],
   "source": [
    "DF = dataset[['Recommendation','Reward']]\n",
    "N = len(DF) # number of trail\n",
    "DF.head()"
   ]
  },
  {
   "cell_type": "code",
   "execution_count": 103,
   "id": "208e022f",
   "metadata": {},
   "outputs": [],
   "source": [
    "Arms = dataset['Recommendation'].unique().tolist()\n",
    "dec = {Arms[0]:1,\n",
    "       Arms[1]:1,\n",
    "       Arms[2]:1,\n",
    "       Arms[3]:1,\n",
    "}"
   ]
  },
  {
   "cell_type": "code",
   "execution_count": 104,
   "id": "e7f45b0d",
   "metadata": {},
   "outputs": [
    {
     "data": {
      "text/plain": [
       "['health', 'movies', 'news', 'sports']"
      ]
     },
     "execution_count": 104,
     "metadata": {},
     "output_type": "execute_result"
    }
   ],
   "source": [
    "Arms"
   ]
  },
  {
   "cell_type": "code",
   "execution_count": 105,
   "id": "22698869",
   "metadata": {},
   "outputs": [
    {
     "data": {
      "text/plain": [
       "{'health': 1, 'movies': 1, 'news': 1, 'sports': 1}"
      ]
     },
     "execution_count": 105,
     "metadata": {},
     "output_type": "execute_result"
    }
   ],
   "source": [
    "dec"
   ]
  },
  {
   "cell_type": "markdown",
   "id": "7e3b87e6",
   "metadata": {},
   "source": [
    "# Epsilon greedy"
   ]
  },
  {
   "cell_type": "code",
   "execution_count": 106,
   "id": "cbafb22d",
   "metadata": {},
   "outputs": [],
   "source": [
    "ads_selected = []\n",
    "numbers_of_selections = dec.copy()\n",
    "sums_of_rewards = dec.copy()\n",
    "total_reward = 0\n",
    "\n",
    "eps = 0.8 # change it between 0 and 1\n",
    "for n in range(0, N):\n",
    "\n",
    "    if np.random.random() < eps:\n",
    "        # you can use np.random.choice with number of Arms to generate random number between 0 and 1\n",
    "        ad = np.random.choice(Arms) # your code is here\n",
    "    else:\n",
    "        ad = max(sums_of_rewards, key=sums_of_rewards.get)\n",
    "    \n",
    "    ads_selected.append(ad)\n",
    "    \n",
    "    numbers_of_selections[ad] = numbers_of_selections[ad] + 1\n",
    "    reward = DF.Reward[n]\n",
    "    sums_of_rewards[ad] = sums_of_rewards[ad] + reward\n",
    "    total_reward = total_reward + reward"
   ]
  },
  {
   "cell_type": "code",
   "execution_count": 107,
   "id": "e9b95a0d",
   "metadata": {},
   "outputs": [
    {
     "data": {
      "image/png": "[encoded data removed]",
      "text/plain": [
       "<Figure size 432x288 with 1 Axes>"
      ]
     },
     "metadata": {
      "needs_background": "light"
     },
     "output_type": "display_data"
    }
   ],
   "source": [
    "plt.hist(ads_selected)\n",
    "plt.title('Histogram of ads selections')\n",
    "plt.xlabel('Ads')\n",
    "plt.ylabel('Number of times each ad was selected')\n",
    "plt.show()"
   ]
  },
  {
   "cell_type": "code",
   "execution_count": 108,
   "id": "c219fad2",
   "metadata": {},
   "outputs": [
    {
     "data": {
      "text/plain": [
       "health    1608\n",
       "news       808\n",
       "movies     802\n",
       "sports     795\n",
       "dtype: int64"
      ]
     },
     "execution_count": 108,
     "metadata": {},
     "output_type": "execute_result"
    }
   ],
   "source": [
    "pd.Series(ads_selected).value_counts()"
   ]
  },
  {
   "cell_type": "code",
   "execution_count": 109,
   "id": "a6191adb",
   "metadata": {},
   "outputs": [
    {
     "data": {
      "text/plain": [
       "0.25329280648429586"
      ]
     },
     "execution_count": 109,
     "metadata": {},
     "output_type": "execute_result"
    }
   ],
   "source": [
    "testEG = test.copy()\n",
    "testEG['prediction'] = pd.Series(ads_selected).value_counts().idxmax()\n",
    "testEG[\"Recommendation\"] = testEG[\"Recommendation\"].astype('category')\n",
    "testEG[\"prediction\"] = testEG[\"prediction\"].astype('category')\n",
    "testEG[\"prediction\"] = testEG[\"prediction\"].cat.codes\n",
    "testEG[\"Recommendation\"] = testEG[\"Recommendation\"].cat.codes\n",
    "accuracy_score(testEG[\"Recommendation\"] , testEG[\"prediction\"])"
   ]
  },
  {
   "cell_type": "markdown",
   "id": "9519242d",
   "metadata": {},
   "source": [
    "# UCB1"
   ]
  },
  {
   "cell_type": "code",
   "execution_count": 110,
   "id": "3ccf85f9",
   "metadata": {},
   "outputs": [],
   "source": [
    "import math\n",
    "ads_selected = []\n",
    "numbers_of_selections = dec.copy()\n",
    "sums_of_rewards = dec.copy()\n",
    "Total_upper_bound = dec.copy()\n",
    "total_reward = 0\n",
    "for n in range(200):\n",
    "    # you can use np.random.choice with number of Arms to generate random number between 0 and 1; we assume the user click here\n",
    "    ad = np.random.choice(Arms) # your code is here\n",
    "    ads_selected.append(ad)   \n",
    "    numbers_of_selections[ad] = numbers_of_selections[ad] + 1\n",
    "    reward = DF.Reward[n]\n",
    "    sums_of_rewards[ad] = sums_of_rewards[ad] + reward\n",
    "    total_reward = total_reward + reward\n",
    "    \n",
    "    \n",
    "for n in range(200, N):\n",
    "    average_reward = sums_of_rewards[ad] / numbers_of_selections[ad]\n",
    "    # you can use math.sqrt, math.log(n + 1) and  numbers_of_selections[ad])\n",
    "    delta_i = math.sqrt((math.log(n + 1))/numbers_of_selections[ad]) # your code is here\n",
    "    upper_bound = average_reward + delta_i\n",
    "    Total_upper_bound[ad] = Total_upper_bound[ad] + upper_bound\n",
    "\n",
    "    ad = max(Total_upper_bound, key=Total_upper_bound.get)   \n",
    "    ads_selected.append(ad)\n",
    "    \n",
    "    numbers_of_selections[ad] = numbers_of_selections[ad] + 1\n",
    "    reward = DF.Reward[n]\n",
    "    sums_of_rewards[ad] = sums_of_rewards[ad] + reward\n",
    "    total_reward = total_reward + reward"
   ]
  },
  {
   "cell_type": "code",
   "execution_count": 111,
   "id": "32a7585f",
   "metadata": {},
   "outputs": [
    {
     "data": {
      "image/png": "[encoded data removed]",
      "text/plain": [
       "<Figure size 432x288 with 1 Axes>"
      ]
     },
     "metadata": {
      "needs_background": "light"
     },
     "output_type": "display_data"
    }
   ],
   "source": [
    "plt.hist(ads_selected)\n",
    "plt.title('Histogram of ads selections')\n",
    "plt.xlabel('Ads')\n",
    "plt.ylabel('Number of times each ad was selected')\n",
    "plt.show()"
   ]
  },
  {
   "cell_type": "code",
   "execution_count": 112,
   "id": "b92f343b",
   "metadata": {},
   "outputs": [
    {
     "data": {
      "text/plain": [
       "movies    3866\n",
       "sports      51\n",
       "health      50\n",
       "news        46\n",
       "dtype: int64"
      ]
     },
     "execution_count": 112,
     "metadata": {},
     "output_type": "execute_result"
    }
   ],
   "source": [
    "pd.Series(ads_selected).value_counts()"
   ]
  },
  {
   "cell_type": "code",
   "execution_count": 113,
   "id": "d868715f",
   "metadata": {},
   "outputs": [
    {
     "data": {
      "text/plain": [
       "0.25329280648429586"
      ]
     },
     "execution_count": 113,
     "metadata": {},
     "output_type": "execute_result"
    }
   ],
   "source": [
    "testUCB = test.copy()\n",
    "testUCB['prediction'] = pd.Series(ads_selected).value_counts().idxmax()\n",
    "testUCB[\"Recommendation\"] = testUCB[\"Recommendation\"].astype('category')\n",
    "testUCB[\"prediction\"] = testUCB[\"prediction\"].astype('category')\n",
    "testUCB[\"prediction\"] = testUCB[\"prediction\"].cat.codes\n",
    "testUCB[\"Recommendation\"] = testUCB[\"Recommendation\"].cat.codes\n",
    "accuracy_score(testUCB[\"Recommendation\"] , testUCB[\"prediction\"])"
   ]
  },
  {
   "cell_type": "markdown",
   "id": "dfff0d16",
   "metadata": {},
   "source": [
    "# Thompson Sampling"
   ]
  },
  {
   "cell_type": "code",
   "execution_count": 114,
   "id": "4e6cdb59",
   "metadata": {},
   "outputs": [],
   "source": [
    "import random\n",
    "ads_selected = []\n",
    "numbers_of_rewards_S = dec.copy()\n",
    "numbers_of_rewards_F = dec.copy()\n",
    "BetaArms = dec.copy()\n",
    "\n",
    "total_reward = 0\n",
    "\n",
    "ad = 'news'\n",
    "\n",
    "for n in range(0, N):\n",
    "    for key in dec:\n",
    "        # use beta distribution may you wanr to use random.betavariate with numbers_of_rewards_S[key] + 1 and numbers_of_rewards_F[key] + 1\n",
    "        BetaArms[key] = (np.random.beta(numbers_of_rewards_S[key] + 1, numbers_of_rewards_F[key] + 1))# your code is here\n",
    "    ad = max(BetaArms, key=BetaArms.get) \n",
    "        \n",
    "    ads_selected.append(ad)\n",
    "    \n",
    "    \n",
    "    reward = DF.Reward[n]\n",
    "    if reward == 1:\n",
    "        numbers_of_rewards_S[ad] = numbers_of_rewards_S[ad] + 1\n",
    "    else:\n",
    "        numbers_of_rewards_F[ad] = numbers_of_rewards_F[ad] + 1\n",
    "    total_reward = total_reward + reward"
   ]
  },
  {
   "cell_type": "code",
   "execution_count": 115,
   "id": "c38ee7a8",
   "metadata": {},
   "outputs": [
    {
     "data": {
      "image/png": "[encoded data removed]",
      "text/plain": [
       "<Figure size 432x288 with 1 Axes>"
      ]
     },
     "metadata": {
      "needs_background": "light"
     },
     "output_type": "display_data"
    }
   ],
   "source": [
    "plt.hist(ads_selected)\n",
    "plt.title('Histogram of ads selections')\n",
    "plt.xlabel('Ads')\n",
    "plt.ylabel('Number of times each ad was selected')\n",
    "plt.show()"
   ]
  },
  {
   "cell_type": "code",
   "execution_count": 116,
   "id": "3434c66f",
   "metadata": {},
   "outputs": [
    {
     "data": {
      "text/plain": [
       "health    2116\n",
       "news      1414\n",
       "movies     416\n",
       "sports      67\n",
       "dtype: int64"
      ]
     },
     "execution_count": 116,
     "metadata": {},
     "output_type": "execute_result"
    }
   ],
   "source": [
    "pd.Series(ads_selected).value_counts()"
   ]
  },
  {
   "cell_type": "code",
   "execution_count": 117,
   "id": "8f85877a",
   "metadata": {},
   "outputs": [
    {
     "data": {
      "text/plain": [
       "0.25329280648429586"
      ]
     },
     "execution_count": 117,
     "metadata": {},
     "output_type": "execute_result"
    }
   ],
   "source": [
    "testTS = test.copy()\n",
    "testTS['prediction'] = pd.Series(ads_selected).value_counts().idxmax()\n",
    "testTS[\"Recommendation\"] = testTS[\"Recommendation\"].astype('category')\n",
    "testTS[\"prediction\"] = testTS[\"prediction\"].astype('category')\n",
    "testTS[\"prediction\"] = testTS[\"prediction\"].cat.codes\n",
    "testTS[\"Recommendation\"] = testTS[\"Recommendation\"].cat.codes\n",
    "accuracy_score(testTS[\"Recommendation\"] , testTS[\"prediction\"])"
   ]
  },
  {
   "cell_type": "markdown",
   "id": "9d45e0ac",
   "metadata": {},
   "source": [
    "# Contextual bandit"
   ]
  },
  {
   "cell_type": "code",
   "execution_count": 118,
   "id": "fcff435e",
   "metadata": {},
   "outputs": [
    {
     "data": {
      "text/plain": [
       "4"
      ]
     },
     "execution_count": 118,
     "metadata": {},
     "output_type": "execute_result"
    }
   ],
   "source": [
    "len(Arms)"
   ]
  },
  {
   "cell_type": "code",
   "execution_count": 119,
   "id": "40577302",
   "metadata": {},
   "outputs": [],
   "source": [
    "dfContBand = dataset.copy()"
   ]
  },
  {
   "cell_type": "code",
   "execution_count": 120,
   "id": "d87bbc74",
   "metadata": {},
   "outputs": [
    {
     "data": {
      "text/plain": [
       "array(['health', 'movies', 'news', 'sports'], dtype=object)"
      ]
     },
     "execution_count": 120,
     "metadata": {},
     "output_type": "execute_result"
    }
   ],
   "source": [
    "from sklearn import preprocessing\n",
    "le = preprocessing.LabelEncoder()\n",
    "le.fit(dfContBand['Recommendation'])\n",
    "dfContBand['Recommendation'] = le.transform(dfContBand['Recommendation'])\n",
    "le.classes_"
   ]
  },
  {
   "cell_type": "code",
   "execution_count": 121,
   "id": "c6aab791",
   "metadata": {},
   "outputs": [
    {
     "data": {
      "text/plain": [
       "array(['health', 'movies', 'news', 'sports'], dtype=object)"
      ]
     },
     "execution_count": 121,
     "metadata": {},
     "output_type": "execute_result"
    }
   ],
   "source": [
    "le.inverse_transform([0, 1, 2, 3])"
   ]
  },
  {
   "cell_type": "code",
   "execution_count": 122,
   "id": "ae45f504",
   "metadata": {},
   "outputs": [
    {
     "data": {
      "text/html": [
       "<div>\n",
       "<style scoped>\n",
       "    .dataframe tbody tr th:only-of-type {\n",
       "        vertical-align: middle;\n",
       "    }\n",
       "\n",
       "    .dataframe tbody tr th {\n",
       "        vertical-align: top;\n",
       "    }\n",
       "\n",
       "    .dataframe thead th {\n",
       "        text-align: right;\n",
       "    }\n",
       "</style>\n",
       "<table border=\"1\" class=\"dataframe\">\n",
       "  <thead>\n",
       "    <tr style=\"text-align: right;\">\n",
       "      <th></th>\n",
       "      <th>Gender</th>\n",
       "      <th>Age</th>\n",
       "      <th>Recommendation</th>\n",
       "      <th>Reward</th>\n",
       "      <th>probability</th>\n",
       "      <th>cost</th>\n",
       "    </tr>\n",
       "  </thead>\n",
       "  <tbody>\n",
       "    <tr>\n",
       "      <th>0</th>\n",
       "      <td>m</td>\n",
       "      <td>29.0</td>\n",
       "      <td>0</td>\n",
       "      <td>0</td>\n",
       "      <td>0.5</td>\n",
       "      <td>0</td>\n",
       "    </tr>\n",
       "    <tr>\n",
       "      <th>1</th>\n",
       "      <td>m</td>\n",
       "      <td>28.0</td>\n",
       "      <td>1</td>\n",
       "      <td>1</td>\n",
       "      <td>0.5</td>\n",
       "      <td>-1</td>\n",
       "    </tr>\n",
       "    <tr>\n",
       "      <th>2</th>\n",
       "      <td>m</td>\n",
       "      <td>34.0</td>\n",
       "      <td>2</td>\n",
       "      <td>1</td>\n",
       "      <td>0.5</td>\n",
       "      <td>-1</td>\n",
       "    </tr>\n",
       "    <tr>\n",
       "      <th>3</th>\n",
       "      <td>m</td>\n",
       "      <td>36.0</td>\n",
       "      <td>0</td>\n",
       "      <td>0</td>\n",
       "      <td>0.5</td>\n",
       "      <td>0</td>\n",
       "    </tr>\n",
       "    <tr>\n",
       "      <th>4</th>\n",
       "      <td>f</td>\n",
       "      <td>61.0</td>\n",
       "      <td>3</td>\n",
       "      <td>0</td>\n",
       "      <td>0.5</td>\n",
       "      <td>0</td>\n",
       "    </tr>\n",
       "  </tbody>\n",
       "</table>\n",
       "</div>"
      ],
      "text/plain": [
       "  Gender   Age  Recommendation  Reward  probability  cost\n",
       "0      m  29.0               0       0          0.5     0\n",
       "1      m  28.0               1       1          0.5    -1\n",
       "2      m  34.0               2       1          0.5    -1\n",
       "3      m  36.0               0       0          0.5     0\n",
       "4      f  61.0               3       0          0.5     0"
      ]
     },
     "execution_count": 122,
     "metadata": {},
     "output_type": "execute_result"
    }
   ],
   "source": [
    "dfContBand['probability'] = 0.5\n",
    "dfContBand['cost'] = 0 - dfContBand['Reward']\n",
    "dfContBand.head()"
   ]
  },
  {
   "cell_type": "markdown",
   "id": "7caeb2eb",
   "metadata": {},
   "source": [
    "# Build the Model"
   ]
  },
  {
   "cell_type": "code",
   "execution_count": 123,
   "id": "ea4e6a2f",
   "metadata": {},
   "outputs": [
    {
     "name": "stdout",
     "output_type": "stream",
     "text": [
      "Requirement already satisfied: vowpalwabbit in c:\\users\\bharani\\anaconda3\\lib\\site-packages (9.1.0)\n"
     ]
    }
   ],
   "source": [
    "!pip3 install vowpalwabbit"
   ]
  },
  {
   "cell_type": "code",
   "execution_count": 124,
   "id": "517228a9",
   "metadata": {},
   "outputs": [
    {
     "name": "stderr",
     "output_type": "stream",
     "text": [
      "C:\\Users\\Bharani\\AppData\\Local\\Temp\\ipykernel_20820\\1038598857.py:3: DeprecationWarning: vw has been renamed to Workspace, the alias will be removed in the future\n",
      "  vw = pyvw.vw(\"--cb 4 \") #your code is here\n"
     ]
    }
   ],
   "source": [
    "from vowpalwabbit import pyvw\n",
    "#  --cb 4  ==> Number of action\n",
    "vw = pyvw.vw(\"--cb 4 \") #your code is here"
   ]
  },
  {
   "cell_type": "code",
   "execution_count": 125,
   "id": "5f762680",
   "metadata": {},
   "outputs": [],
   "source": [
    "# Define the parameters\n",
    "\n",
    "for i in dfContBand.index:\n",
    "  action = dfContBand.loc[i, \"Recommendation\"]\n",
    "  cost = dfContBand.loc[i, \"cost\"]\n",
    "  probability = dfContBand.loc[i, \"probability\"]\n",
    "  Gender = dfContBand.loc[i, \"Gender\"]\n",
    "  Age = dfContBand.loc[i, \"Age\"]\n",
    "\n",
    "  # Construct the example in the required vw format.\n",
    "  learn_example = str(action) + \":\" + str(cost) + \":\" + str(probability) +  \" | \" + str(Gender) + \" \" + str(Age)\n",
    "\n",
    "  # Here we do the actual learning.\n",
    "  # your code is here"
   ]
  },
  {
   "cell_type": "code",
   "execution_count": 126,
   "id": "cefb5e21",
   "metadata": {},
   "outputs": [
    {
     "name": "stdout",
     "output_type": "stream",
     "text": [
      "Show action number  ['movies']\n"
     ]
    }
   ],
   "source": [
    "print(\"Show action number \", le.inverse_transform([vw.predict('|m 29')]))"
   ]
  },
  {
   "cell_type": "code",
   "execution_count": 127,
   "id": "f9aca199",
   "metadata": {},
   "outputs": [
    {
     "data": {
      "text/plain": [
       "array(['sports'], dtype=object)"
      ]
     },
     "execution_count": 127,
     "metadata": {},
     "output_type": "execute_result"
    }
   ],
   "source": [
    "le.inverse_transform([3])"
   ]
  },
  {
   "cell_type": "code",
   "execution_count": 128,
   "id": "d87d4b01",
   "metadata": {},
   "outputs": [],
   "source": [
    "dstwst = dataset[['Gender','Age']]"
   ]
  },
  {
   "cell_type": "code",
   "execution_count": 129,
   "id": "29aa5194",
   "metadata": {},
   "outputs": [],
   "source": [
    "target = []\n",
    "dstwst=test.copy()\n",
    "for j in dstwst.index:\n",
    "    Gender = dstwst.loc[j, \"Gender\"]\n",
    "    Age = dstwst.loc[j, \"Age\"]\n",
    "    test_example = \"| \" + str(Gender) + \" \" + str(Age)\n",
    "    choice = vw.predict(test_example)\n",
    "    target.append(choice)\n",
    "dstwst['prediction'] = le.inverse_transform(target)"
   ]
  },
  {
   "cell_type": "code",
   "execution_count": 130,
   "id": "5a434a1d",
   "metadata": {},
   "outputs": [
    {
     "data": {
      "text/html": [
       "<div>\n",
       "<style scoped>\n",
       "    .dataframe tbody tr th:only-of-type {\n",
       "        vertical-align: middle;\n",
       "    }\n",
       "\n",
       "    .dataframe tbody tr th {\n",
       "        vertical-align: top;\n",
       "    }\n",
       "\n",
       "    .dataframe thead th {\n",
       "        text-align: right;\n",
       "    }\n",
       "</style>\n",
       "<table border=\"1\" class=\"dataframe\">\n",
       "  <thead>\n",
       "    <tr style=\"text-align: right;\">\n",
       "      <th></th>\n",
       "      <th>Gender</th>\n",
       "      <th>Age</th>\n",
       "      <th>Recommendation</th>\n",
       "      <th>Reward</th>\n",
       "      <th>prediction</th>\n",
       "    </tr>\n",
       "  </thead>\n",
       "  <tbody>\n",
       "    <tr>\n",
       "      <th>0</th>\n",
       "      <td>f</td>\n",
       "      <td>24.0</td>\n",
       "      <td>news</td>\n",
       "      <td>0</td>\n",
       "      <td>movies</td>\n",
       "    </tr>\n",
       "    <tr>\n",
       "      <th>1</th>\n",
       "      <td>m</td>\n",
       "      <td>85.0</td>\n",
       "      <td>news</td>\n",
       "      <td>0</td>\n",
       "      <td>movies</td>\n",
       "    </tr>\n",
       "    <tr>\n",
       "      <th>2</th>\n",
       "      <td>f</td>\n",
       "      <td>19.0</td>\n",
       "      <td>news</td>\n",
       "      <td>0</td>\n",
       "      <td>movies</td>\n",
       "    </tr>\n",
       "    <tr>\n",
       "      <th>3</th>\n",
       "      <td>m</td>\n",
       "      <td>87.0</td>\n",
       "      <td>health</td>\n",
       "      <td>1</td>\n",
       "      <td>movies</td>\n",
       "    </tr>\n",
       "    <tr>\n",
       "      <th>4</th>\n",
       "      <td>m</td>\n",
       "      <td>28.0</td>\n",
       "      <td>sports</td>\n",
       "      <td>1</td>\n",
       "      <td>movies</td>\n",
       "    </tr>\n",
       "  </tbody>\n",
       "</table>\n",
       "</div>"
      ],
      "text/plain": [
       "  Gender   Age Recommendation  Reward prediction\n",
       "0      f  24.0           news       0     movies\n",
       "1      m  85.0           news       0     movies\n",
       "2      f  19.0           news       0     movies\n",
       "3      m  87.0         health       1     movies\n",
       "4      m  28.0         sports       1     movies"
      ]
     },
     "execution_count": 130,
     "metadata": {},
     "output_type": "execute_result"
    }
   ],
   "source": [
    "dstwst.head()"
   ]
  },
  {
   "cell_type": "code",
   "execution_count": 131,
   "id": "98fee2e6",
   "metadata": {},
   "outputs": [
    {
     "data": {
      "text/plain": [
       "0.25329280648429586"
      ]
     },
     "execution_count": 131,
     "metadata": {},
     "output_type": "execute_result"
    }
   ],
   "source": [
    "dstwst[\"Recommendation\"] = dstwst[\"Recommendation\"].astype('category')\n",
    "dstwst[\"Recommendation\"] = dstwst[\"Recommendation\"].cat.codes\n",
    "dstwst[\"prediction\"] = dstwst[\"prediction\"].astype('category')\n",
    "dstwst[\"prediction\"] = dstwst[\"prediction\"].cat.codes\n",
    "accuracy_score(dstwst[\"Recommendation\"] , dstwst[\"prediction\"])"
   ]
  },
  {
   "cell_type": "code",
   "execution_count": 132,
   "id": "0e8c8a40",
   "metadata": {},
   "outputs": [
    {
     "data": {
      "text/plain": [
       "1"
      ]
     },
     "execution_count": 132,
     "metadata": {},
     "output_type": "execute_result"
    }
   ],
   "source": [
    "vw.predict(\"| f 30.0\")"
   ]
  },
  {
   "cell_type": "markdown",
   "id": "a2753a8e",
   "metadata": {},
   "source": [
    "# Classification"
   ]
  },
  {
   "cell_type": "code",
   "execution_count": 133,
   "id": "6a196556",
   "metadata": {},
   "outputs": [],
   "source": [
    "dataset = dataset[dataset['Reward'] == 1]"
   ]
  },
  {
   "cell_type": "code",
   "execution_count": 134,
   "id": "23721796",
   "metadata": {},
   "outputs": [],
   "source": [
    "training = dataset[['Gender','Age','Recommendation']].copy()\n",
    "testing = test[['Gender','Age','Recommendation']].copy()\n",
    "\n",
    "training[\"Recommendation\"] = training[\"Recommendation\"].astype('category')\n",
    "training[\"Recommendation\"] = training[\"Recommendation\"].cat.codes\n",
    "testing[\"Recommendation\"] = testing[\"Recommendation\"].astype('category')\n",
    "testing[\"Recommendation\"] = testing[\"Recommendation\"].cat.codes"
   ]
  },
  {
   "cell_type": "code",
   "execution_count": 135,
   "id": "9b3dd033",
   "metadata": {},
   "outputs": [],
   "source": [
    "from sklearn.preprocessing import LabelEncoder\n",
    "LE_data = LabelEncoder()"
   ]
  },
  {
   "cell_type": "code",
   "execution_count": 136,
   "id": "c5639679",
   "metadata": {},
   "outputs": [],
   "source": [
    "training.iloc[:, 0] = LE_data.fit_transform(training.iloc[:, 0])\n",
    "testing.iloc[:, 0] = LE_data.fit_transform(testing.iloc[:, 0])"
   ]
  },
  {
   "cell_type": "code",
   "execution_count": 137,
   "id": "9135eba7",
   "metadata": {},
   "outputs": [
    {
     "data": {
      "text/html": [
       "<div>\n",
       "<style scoped>\n",
       "    .dataframe tbody tr th:only-of-type {\n",
       "        vertical-align: middle;\n",
       "    }\n",
       "\n",
       "    .dataframe tbody tr th {\n",
       "        vertical-align: top;\n",
       "    }\n",
       "\n",
       "    .dataframe thead th {\n",
       "        text-align: right;\n",
       "    }\n",
       "</style>\n",
       "<table border=\"1\" class=\"dataframe\">\n",
       "  <thead>\n",
       "    <tr style=\"text-align: right;\">\n",
       "      <th></th>\n",
       "      <th>Gender</th>\n",
       "      <th>Age</th>\n",
       "      <th>Recommendation</th>\n",
       "    </tr>\n",
       "  </thead>\n",
       "  <tbody>\n",
       "    <tr>\n",
       "      <th>1</th>\n",
       "      <td>1</td>\n",
       "      <td>28.0</td>\n",
       "      <td>1</td>\n",
       "    </tr>\n",
       "    <tr>\n",
       "      <th>2</th>\n",
       "      <td>1</td>\n",
       "      <td>34.0</td>\n",
       "      <td>2</td>\n",
       "    </tr>\n",
       "    <tr>\n",
       "      <th>8</th>\n",
       "      <td>1</td>\n",
       "      <td>13.0</td>\n",
       "      <td>3</td>\n",
       "    </tr>\n",
       "    <tr>\n",
       "      <th>9</th>\n",
       "      <td>1</td>\n",
       "      <td>83.0</td>\n",
       "      <td>0</td>\n",
       "    </tr>\n",
       "    <tr>\n",
       "      <th>14</th>\n",
       "      <td>1</td>\n",
       "      <td>71.0</td>\n",
       "      <td>0</td>\n",
       "    </tr>\n",
       "  </tbody>\n",
       "</table>\n",
       "</div>"
      ],
      "text/plain": [
       "    Gender   Age  Recommendation\n",
       "1        1  28.0               1\n",
       "2        1  34.0               2\n",
       "8        1  13.0               3\n",
       "9        1  83.0               0\n",
       "14       1  71.0               0"
      ]
     },
     "execution_count": 137,
     "metadata": {},
     "output_type": "execute_result"
    }
   ],
   "source": [
    "training.head()"
   ]
  },
  {
   "cell_type": "code",
   "execution_count": 138,
   "id": "bbcb8d74",
   "metadata": {},
   "outputs": [
    {
     "data": {
      "text/html": [
       "<div>\n",
       "<style scoped>\n",
       "    .dataframe tbody tr th:only-of-type {\n",
       "        vertical-align: middle;\n",
       "    }\n",
       "\n",
       "    .dataframe tbody tr th {\n",
       "        vertical-align: top;\n",
       "    }\n",
       "\n",
       "    .dataframe thead th {\n",
       "        text-align: right;\n",
       "    }\n",
       "</style>\n",
       "<table border=\"1\" class=\"dataframe\">\n",
       "  <thead>\n",
       "    <tr style=\"text-align: right;\">\n",
       "      <th></th>\n",
       "      <th>Gender</th>\n",
       "      <th>Age</th>\n",
       "      <th>Recommendation</th>\n",
       "    </tr>\n",
       "  </thead>\n",
       "  <tbody>\n",
       "    <tr>\n",
       "      <th>0</th>\n",
       "      <td>0</td>\n",
       "      <td>24.0</td>\n",
       "      <td>2</td>\n",
       "    </tr>\n",
       "    <tr>\n",
       "      <th>1</th>\n",
       "      <td>1</td>\n",
       "      <td>85.0</td>\n",
       "      <td>2</td>\n",
       "    </tr>\n",
       "    <tr>\n",
       "      <th>2</th>\n",
       "      <td>0</td>\n",
       "      <td>19.0</td>\n",
       "      <td>2</td>\n",
       "    </tr>\n",
       "    <tr>\n",
       "      <th>3</th>\n",
       "      <td>1</td>\n",
       "      <td>87.0</td>\n",
       "      <td>0</td>\n",
       "    </tr>\n",
       "    <tr>\n",
       "      <th>4</th>\n",
       "      <td>1</td>\n",
       "      <td>28.0</td>\n",
       "      <td>3</td>\n",
       "    </tr>\n",
       "  </tbody>\n",
       "</table>\n",
       "</div>"
      ],
      "text/plain": [
       "   Gender   Age  Recommendation\n",
       "0       0  24.0               2\n",
       "1       1  85.0               2\n",
       "2       0  19.0               2\n",
       "3       1  87.0               0\n",
       "4       1  28.0               3"
      ]
     },
     "execution_count": 138,
     "metadata": {},
     "output_type": "execute_result"
    }
   ],
   "source": [
    "testing.head()"
   ]
  },
  {
   "cell_type": "code",
   "execution_count": 139,
   "id": "d84d9bf4",
   "metadata": {},
   "outputs": [],
   "source": [
    "x_train = training.drop(['Recommendation'], axis=1)\n",
    "X_test = testing.drop(['Recommendation'], axis=1)\n",
    "y_train = training.drop(columns = ['Gender', 'Age'])\n",
    "y_test = testing.drop(columns = ['Gender', 'Age'])"
   ]
  },
  {
   "cell_type": "code",
   "execution_count": 140,
   "id": "2d8871ac",
   "metadata": {},
   "outputs": [
    {
     "name": "stdout",
     "output_type": "stream",
     "text": [
      "Accuracy of Decision tree classifer: 0.22998986828774062\n"
     ]
    }
   ],
   "source": [
    "#Decesion tree\n",
    "from sklearn.tree import DecisionTreeClassifier \n",
    "from sklearn import metrics\n",
    "# Create Decision Tree classifer object\n",
    "DTC = DecisionTreeClassifier()\n",
    "# Train Decision Tree Classifer\n",
    "DTC = DTC.fit(x_train,y_train)\n",
    "#Predict the response for the dataset\n",
    "y_pred = DTC.predict(X_test)\n",
    "# Model Accuracy\n",
    "print(\"Accuracy of Decision tree classifer:\",metrics.accuracy_score(y_test, y_pred))"
   ]
  },
  {
   "cell_type": "code",
   "execution_count": 141,
   "id": "25b673dc",
   "metadata": {},
   "outputs": [
    {
     "name": "stderr",
     "output_type": "stream",
     "text": [
      "C:\\Users\\Bharani\\AppData\\Local\\Temp\\ipykernel_20820\\1515825103.py:7: DataConversionWarning: A column-vector y was passed when a 1d array was expected. Please change the shape of y to (n_samples,), for example using ravel().\n",
      "  RFC.fit(x_train,y_train)\n"
     ]
    },
    {
     "data": {
      "text/plain": [
       "RandomForestClassifier()"
      ]
     },
     "execution_count": 141,
     "metadata": {},
     "output_type": "execute_result"
    }
   ],
   "source": [
    "# Random forest\n",
    "#Import Random Forest Model\n",
    "from sklearn.ensemble import RandomForestClassifier\n",
    "#Create a Gaussian Classifier\n",
    "RFC=RandomForestClassifier(n_estimators=100)\n",
    "#Train the model using the training sets y_pred=clf.predict(X_test)\n",
    "RFC.fit(x_train,y_train)"
   ]
  },
  {
   "cell_type": "code",
   "execution_count": 142,
   "id": "7053dd5f",
   "metadata": {},
   "outputs": [
    {
     "name": "stdout",
     "output_type": "stream",
     "text": [
      "Accuracy of Random forest classifer: 0.24012158054711247\n"
     ]
    }
   ],
   "source": [
    "#Predict the response for the dataset\n",
    "y_pred=RFC.predict(X_test)\n",
    "# Model Accuracy\n",
    "print(\"Accuracy of Random forest classifer:\",metrics.accuracy_score(y_test, y_pred))"
   ]
  },
  {
   "cell_type": "markdown",
   "id": "6f401299",
   "metadata": {},
   "source": [
    "# SVM classifier"
   ]
  },
  {
   "cell_type": "code",
   "execution_count": 143,
   "id": "69664730",
   "metadata": {},
   "outputs": [
    {
     "name": "stderr",
     "output_type": "stream",
     "text": [
      "C:\\Users\\Bharani\\anaconda3\\lib\\site-packages\\sklearn\\utils\\validation.py:993: DataConversionWarning: A column-vector y was passed when a 1d array was expected. Please change the shape of y to (n_samples, ), for example using ravel().\n",
      "  y = column_or_1d(y, warn=True)\n"
     ]
    },
    {
     "data": {
      "text/plain": [
       "SVC(kernel='linear')"
      ]
     },
     "execution_count": 143,
     "metadata": {},
     "output_type": "execute_result"
    }
   ],
   "source": [
    "#Import svm model\n",
    "from sklearn import svm\n",
    "#Create a svm Classifier\n",
    "SVM_Class = svm.SVC(kernel='linear')\n",
    "#Train the model using the training sets\n",
    "SVM_Class.fit(x_train, y_train)"
   ]
  },
  {
   "cell_type": "code",
   "execution_count": 144,
   "id": "9a6309f0",
   "metadata": {},
   "outputs": [
    {
     "name": "stdout",
     "output_type": "stream",
     "text": [
      "Accuracy for SVM classifer: 0.2512664640324215\n"
     ]
    }
   ],
   "source": [
    "#Predict the response for test dataset\n",
    "y_pred = SVM_Class.predict(X_test)\n",
    "# Model Accuracy\n",
    "print(\"Accuracy for SVM classifer:\",metrics.accuracy_score(y_test, y_pred))"
   ]
  }
 ],
 "metadata": {
  "kernelspec": {
   "display_name": "Python 3 (ipykernel)",
   "language": "python",
   "name": "python3"
  },
  "language_info": {
   "codemirror_mode": {
    "name": "ipython",
    "version": 3
   },
   "file_extension": ".py",
   "mimetype": "text/x-python",
   "name": "python",
   "nbconvert_exporter": "python",
   "pygments_lexer": "ipython3",
   "version": "3.9.12"
  }
 },
 "nbformat": 4,
 "nbformat_minor": 5
}
